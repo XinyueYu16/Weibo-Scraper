{
 "cells": [
  {
   "cell_type": "markdown",
   "metadata": {},
   "source": [
    "# 项目目的\n",
    "- 复习爬虫、试验微博爬虫；\n",
    "- 获得、监测明星微博数据，发现有趣的点。"
   ]
  },
  {
   "cell_type": "code",
   "execution_count": 1,
   "metadata": {
    "ExecuteTime": {
     "end_time": "2020-10-20T03:27:16.287342Z",
     "start_time": "2020-10-20T03:27:15.695154Z"
    }
   },
   "outputs": [],
   "source": [
    "# load packages\n",
    "\n",
    "import pandas as pd\n",
    "import numpy as np\n",
    "import matplotlib.pyplot as plt\n",
    "%matplotlib inline\n",
    "import re\n",
    "\n",
    "import os\n",
    "import time\n",
    "import datetime\n",
    "import glob\n",
    "\n",
    "import requests\n",
    "from bs4 import BeautifulSoup\n",
    "import json\n"
   ]
  },
  {
   "cell_type": "markdown",
   "metadata": {},
   "source": [
    "## 爬虫框架\n",
    "\n",
    "### 获取网页源代码\n",
    "- 网页版\n",
    "    - 不能直接requests\n",
    "    - 尝试session, FAIL(不会解析json);\n",
    "\n",
    "- 尝试手机版\n",
    "    - requests失败\n",
    "    - session，添加headers里找到的cookie，成功\n",
    "\n",
    "- 不到万不得已不想用selenium乌乌\n",
    "\n",
    "### 提取有用部分\n",
    "- 用户信息\n",
    "    - 名称，基本信息，简介\n",
    "    - 粉丝数，关注\n",
    "    - 微博数量，maxpage\n",
    "    \n",
    "- 微博内容(span, class = 'ctt')，对应数据:\n",
    "    - 内容\n",
    "    - 时间\n",
    "    - 形式（微博内容中有无视频div展示的方式不一样）\n",
    "    - 转\n",
    "    - 赞\n",
    "    - 评(class = cc)\n",
    "\n",
    "### 循环for 1 user set pages\n",
    "\n",
    "### 循环for assigned users set pages"
   ]
  },
  {
   "cell_type": "markdown",
   "metadata": {},
   "source": [
    "## Try for 1 user"
   ]
  },
  {
   "cell_type": "code",
   "execution_count": 2,
   "metadata": {
    "ExecuteTime": {
     "end_time": "2020-10-18T16:10:31.462098Z",
     "start_time": "2020-10-18T16:10:31.457108Z"
    }
   },
   "outputs": [],
   "source": [
    "url = 'https://weibo.cn/u/5029399338'"
   ]
  },
  {
   "cell_type": "code",
   "execution_count": 3,
   "metadata": {
    "ExecuteTime": {
     "end_time": "2020-10-18T16:10:32.460895Z",
     "start_time": "2020-10-18T16:10:31.738929Z"
    }
   },
   "outputs": [],
   "source": [
    "headers = {\n",
    "   # pretend I am a browser\n",
    "   'User-Agent': 'Mozilla/5.0 (iPhone; CPU iPhone OS 13_2_3 like Mac OS X) AppleWebKit/605.1.15 (KHTML, like Gecko) Version/13.0.3 Mobile/15E148 Safari/604.1',\n",
    "   'cookie': '_T_WM=34953442506; SCF=Ajk-YV78pP2M6RQSDe4wfly_80RM9Q-4QymuM7cR3PdtCVC_zNKISHgzwvdCHM_kaiOGv3aTY_4BOv21hRAMiq0.; SUB=_2A25yj94CDeRhGeBP71QX-CbKzz6IHXVuc-JKrDV6PUJbktANLUL6kW1NRUxjc1DvrIOejhkvv8vmZCt1pSz-euBg; SUBP=0033WrSXqPxfM725Ws9jqgMF55529P9D9WhsbQaHX4CfzZMfTWwKPfgk5NHD95QceKBcSonRSoBEWs4Dqcj.i--Xi-z4iKL2i--ciKLhiKL2i--Xi-zRiKn7i--fiKn4iK.p; SUHB=0bt8gOFsGDjHnO; SSOLoginState=1602989650; WEIBOCN_FROM=1110103030; MLOGIN=1; M_WEIBOCN_PARAMS=luicode%3D10000011%26lfid%3D1076035029399338%26fid%3D1005055029399338%26uicode%3D10000011; XSRF-TOKEN=98e6c5'\n",
    "   }\n",
    "session = requests.Session()\n",
    "page = session.get(url, headers = headers)\n",
    "soup = BeautifulSoup(page.text)"
   ]
  },
  {
   "cell_type": "code",
   "execution_count": 37,
   "metadata": {
    "ExecuteTime": {
     "end_time": "2020-10-18T16:25:04.915818Z",
     "start_time": "2020-10-18T16:25:04.909723Z"
    }
   },
   "outputs": [],
   "source": [
    "# weibo用户基本信息\n",
    "info = soup.find('span', {'class': 'ctt'})\n",
    "user_name = info.img.parent.get_text().strip(info.span.string).split('\\xa0')[0]\n",
    "basic = ''.join((info.img.parent.get_text().strip(info.span.string).split('\\xa0')[1]).split())"
   ]
  },
  {
   "cell_type": "code",
   "execution_count": 143,
   "metadata": {
    "ExecuteTime": {
     "end_time": "2020-10-19T09:12:59.579205Z",
     "start_time": "2020-10-19T09:12:59.574220Z"
    }
   },
   "outputs": [],
   "source": [
    "tip2 = soup.find('div', class_ = 'tip2')\n",
    "weibo_num, follow, follower = re.findall('[0-9]+', tip2.text)[:3]"
   ]
  },
  {
   "cell_type": "code",
   "execution_count": 128,
   "metadata": {
    "ExecuteTime": {
     "end_time": "2020-10-19T09:03:25.244901Z",
     "start_time": "2020-10-19T09:03:25.235925Z"
    }
   },
   "outputs": [
    {
     "data": {
      "text/plain": [
       "212"
      ]
     },
     "execution_count": 128,
     "metadata": {},
     "output_type": "execute_result"
    }
   ],
   "source": [
    "mpage = int(soup.find('input', {'name': 'mp'})['value'])\n",
    "mpage"
   ]
  },
  {
   "cell_type": "code",
   "execution_count": null,
   "metadata": {},
   "outputs": [],
   "source": [
    "# 需要创建一个range(0, mp)的url_list，遍历"
   ]
  },
  {
   "cell_type": "code",
   "execution_count": 38,
   "metadata": {
    "ExecuteTime": {
     "end_time": "2020-10-18T16:25:05.254796Z",
     "start_time": "2020-10-18T16:25:05.247845Z"
    }
   },
   "outputs": [],
   "source": [
    "# 发博信息：内容，形式，转赞评\n",
    "# 一条微博为1个card，默认显示前10个card\n",
    "cards = soup.find_all('div', {'class': 'c', 'id': not None})"
   ]
  },
  {
   "cell_type": "code",
   "execution_count": 151,
   "metadata": {
    "ExecuteTime": {
     "end_time": "2020-10-18T08:08:47.166344Z",
     "start_time": "2020-10-18T08:08:47.153379Z"
    },
    "scrolled": true
   },
   "outputs": [
    {
     "data": {
      "text/plain": [
       "[<div class=\"c\" id=\"M_JeFZY4ao5\"><div><span class=\"ctt\">曾经很有自信... 😅‬ <a href=\"https://m.weibo.cn/s/video/show?object_id=1034:4534980294934534&amp;fromWap=1\">Yesung110684的微博视频</a> </span> <a href=\"https://weibo.cn/attitude/JeFZY4ao5/add?uid=6146688642&amp;rl=0&amp;st=690cae\">赞[16981]</a> <a href=\"https://weibo.cn/repost/JeFZY4ao5?uid=5029399338&amp;rl=0\">转发[1618]</a> <a class=\"cc\" href=\"https://weibo.cn/comment/JeFZY4ao5?uid=5029399338&amp;rl=0#cmtfrm\">评论[10209]</a> <a href=\"https://weibo.cn/fav/addFav/JeFZY4ao5?rl=0&amp;st=690cae\">收藏</a><!-- --> <span class=\"ct\">08月06日 17:44 来自iPhone 11 Pro</span></div></div>,\n",
       " <div class=\"c\" id=\"M_JeDpi3c1g\"><div><span class=\"ctt\">人累不要紧，只要心不累就好办。 </span> [<a href=\"https://weibo.cn/mblog/picAll/JeDpi3c1g?rl=1\">组图共2张</a>]</div><div><a href=\"https://weibo.cn/mblog/pic/JeDpi3c1g?rl=0\"><img alt=\"图片\" class=\"ib\" src=\"http://wx1.sinaimg.cn/wap180/005umQwagy1ghgwyy89hfj31kw2dc1ky.jpg\"/></a> <a href=\"https://weibo.cn/mblog/oripic?id=JeDpi3c1g&amp;u=005umQwagy1ghgwyy89hfj31kw2dc1ky\">原图</a> <a href=\"https://weibo.cn/attitude/JeDpi3c1g/add?uid=6146688642&amp;rl=0&amp;st=690cae\">赞[18485]</a> <a href=\"https://weibo.cn/repost/JeDpi3c1g?uid=5029399338&amp;rl=0\">转发[2324]</a> <a class=\"cc\" href=\"https://weibo.cn/comment/JeDpi3c1g?uid=5029399338&amp;rl=0#cmtfrm\">评论[2656]</a> <a href=\"https://weibo.cn/fav/addFav/JeDpi3c1g?rl=0&amp;st=690cae\">收藏</a><!-- --> <span class=\"ct\">08月06日 11:08 来自iPhone 11 Pro</span></div></div>,\n",
       " <div class=\"c\" id=\"M_JexqblzQ5\"><div><span class=\"ctt\">笑吧 笑吧 笑吧 😁 </span> [<a href=\"https://weibo.cn/mblog/picAll/JexqblzQ5?rl=1\">组图共4张</a>]</div><div><a href=\"https://weibo.cn/mblog/pic/JexqblzQ5?rl=0\"><img alt=\"图片\" class=\"ib\" src=\"http://wx4.sinaimg.cn/wap180/005umQwagy1ghg6jj70uuj31o02yob2b.jpg\"/></a> <a href=\"https://weibo.cn/mblog/oripic?id=JexqblzQ5&amp;u=005umQwagy1ghg6jj70uuj31o02yob2b\">原图</a> <a href=\"https://weibo.cn/attitude/JexqblzQ5/add?uid=6146688642&amp;rl=0&amp;st=690cae\">赞[17957]</a> <a href=\"https://weibo.cn/repost/JexqblzQ5?uid=5029399338&amp;rl=0\">转发[1791]</a> <a class=\"cc\" href=\"https://weibo.cn/comment/JexqblzQ5?uid=5029399338&amp;rl=0#cmtfrm\">评论[2337]</a> <a href=\"https://weibo.cn/fav/addFav/JexqblzQ5?rl=0&amp;st=690cae\">收藏</a><!-- --> <span class=\"ct\">08月05日 19:53 来自iPhone 11 Pro</span></div></div>,\n",
       " <div class=\"c\" id=\"M_JeuX7yvdr\"><div><span class=\"ctt\">如果没有能力改变现状， 我就要控制我自己的情绪。 </span></div><div><a href=\"https://weibo.cn/mblog/pic/JeuX7yvdr?rl=0\"><img alt=\"图片\" class=\"ib\" src=\"http://wx3.sinaimg.cn/wap180/005umQwagy1ghfvndj2hij30u0190wqt.jpg\"/></a> <a href=\"https://weibo.cn/mblog/oripic?id=JeuX7yvdr&amp;u=005umQwagy1ghfvndj2hij30u0190wqt\">原图</a> <a href=\"https://weibo.cn/attitude/JeuX7yvdr/add?uid=6146688642&amp;rl=0&amp;st=690cae\">赞[18113]</a> <a href=\"https://weibo.cn/repost/JeuX7yvdr?uid=5029399338&amp;rl=0\">转发[1716]</a> <a class=\"cc\" href=\"https://weibo.cn/comment/JeuX7yvdr?uid=5029399338&amp;rl=0#cmtfrm\">评论[1726]</a> <a href=\"https://weibo.cn/fav/addFav/JeuX7yvdr?rl=0&amp;st=690cae\">收藏</a><!-- --> <span class=\"ct\">08月05日 13:36 来自iPhone 11 Pro</span></div></div>,\n",
       " <div class=\"c\" id=\"M_JefnWxpIh\"><div><span class=\"ctt\">굿밤 🌝 </span> [<a href=\"https://weibo.cn/mblog/picAll/JefnWxpIh?rl=1\">组图共3张</a>]</div><div><a href=\"https://weibo.cn/mblog/pic/JefnWxpIh?rl=0\"><img alt=\"图片\" class=\"ib\" src=\"http://wx1.sinaimg.cn/wap180/005umQwagy1ghdywwp9u7j31o02yokjm.jpg\"/></a> <a href=\"https://weibo.cn/mblog/oripic?id=JefnWxpIh&amp;u=005umQwagy1ghdywwp9u7j31o02yokjm\">原图</a> <a href=\"https://weibo.cn/attitude/JefnWxpIh/add?uid=6146688642&amp;rl=0&amp;st=690cae\">赞[14193]</a> <a href=\"https://weibo.cn/repost/JefnWxpIh?uid=5029399338&amp;rl=0\">转发[1470]</a> <a class=\"cc\" href=\"https://weibo.cn/comment/JefnWxpIh?uid=5029399338&amp;rl=0#cmtfrm\">评论[1765]</a> <a href=\"https://weibo.cn/fav/addFav/JefnWxpIh?rl=0&amp;st=690cae\">收藏</a><!-- --> <span class=\"ct\">08月03日 21:58 来自iPhone 11 Pro</span></div></div>,\n",
       " <div class=\"c\" id=\"M_Je3Qa9zKP\"><div><span class=\"ctt\">吓一跳。🐝🐝🐝 <a href=\"https://m.weibo.cn/s/video/show?object_id=1034:4533513354149914&amp;fromWap=1\">Yesung110684的微博视频</a> </span> <a href=\"https://weibo.cn/attitude/Je3Qa9zKP/add?uid=6146688642&amp;rl=0&amp;st=690cae\">赞[16437]</a> <a href=\"https://weibo.cn/repost/Je3Qa9zKP?uid=5029399338&amp;rl=0\">转发[1652]</a> <a class=\"cc\" href=\"https://weibo.cn/comment/Je3Qa9zKP?uid=5029399338&amp;rl=0#cmtfrm\">评论[1606]</a> <a href=\"https://weibo.cn/fav/addFav/Je3Qa9zKP?rl=0&amp;st=690cae\">收藏</a><!-- --> <span class=\"ct\">08月02日 16:35 来自iPhone 11 Pro</span></div></div>,\n",
       " <div class=\"c\" id=\"M_Je28I7gTU\"><div><span class=\"ctt\">🥬🥒🌶🌽🥕 <a href=\"/n/SUPERJUNIOR\">@SUPERJUNIOR</a> </span> [<a href=\"https://weibo.cn/mblog/picAll/Je28I7gTU?rl=1\">组图共5张</a>]</div><div><a href=\"https://weibo.cn/mblog/pic/Je28I7gTU?rl=0\"><img alt=\"图片\" class=\"ib\" src=\"http://wx1.sinaimg.cn/wap180/005umQwagy1ghccfqqi0sj32801o0npe.jpg\"/></a> <a href=\"https://weibo.cn/mblog/oripic?id=Je28I7gTU&amp;u=005umQwagy1ghccfqqi0sj32801o0npe\">原图</a> <a href=\"https://weibo.cn/attitude/Je28I7gTU/add?uid=6146688642&amp;rl=0&amp;st=690cae\">赞[15675]</a> <a href=\"https://weibo.cn/repost/Je28I7gTU?uid=5029399338&amp;rl=0\">转发[2040]</a> <a class=\"cc\" href=\"https://weibo.cn/comment/Je28I7gTU?uid=5029399338&amp;rl=0#cmtfrm\">评论[1693]</a> <a href=\"https://weibo.cn/fav/addFav/Je28I7gTU?rl=0&amp;st=690cae\">收藏</a><!-- --> <span class=\"ct\">08月02日 12:15 来自iPhone 11 Pro</span></div></div>,\n",
       " <div class=\"c\" id=\"M_JdMcWqZc3\"><div><span class=\"ctt\">分身术 🍀 </span></div><div><a href=\"https://weibo.cn/mblog/pic/JdMcWqZc3?rl=0\"><img alt=\"图片\" class=\"ib\" src=\"http://wx2.sinaimg.cn/wap180/005umQwagy1ghae3z4rc1j31o02yo1ky.jpg\"/></a> <a href=\"https://weibo.cn/mblog/oripic?id=JdMcWqZc3&amp;u=005umQwagy1ghae3z4rc1j31o02yo1ky\">原图</a> <a href=\"https://weibo.cn/attitude/JdMcWqZc3/add?uid=6146688642&amp;rl=0&amp;st=690cae\">赞[12880]</a> <a href=\"https://weibo.cn/repost/JdMcWqZc3?uid=5029399338&amp;rl=0\">转发[1106]</a> <a class=\"cc\" href=\"https://weibo.cn/comment/JdMcWqZc3?uid=5029399338&amp;rl=0#cmtfrm\">评论[1508]</a> <a href=\"https://weibo.cn/fav/addFav/JdMcWqZc3?rl=0&amp;st=690cae\">收藏</a><!-- --> <span class=\"ct\">07月31日 19:42 来自iPhone 11 Pro</span></div></div>,\n",
       " <div class=\"c\" id=\"M_JdElFio5c\"><div><span class=\"ctt\">예욱한 밤 🌙 <a href=\"https://weibo.cn/pages/100808topic?extparam=goodnight&amp;from=feed\">#goodnight#</a> </span> [<a href=\"https://weibo.cn/mblog/picAll/JdElFio5c?rl=1\">组图共2张</a>]</div><div><a href=\"https://weibo.cn/mblog/pic/JdElFio5c?rl=0\"><img alt=\"图片\" class=\"ib\" src=\"http://wx3.sinaimg.cn/wap180/005umQwagy1gh9fev3w3mj31o0280hdt.jpg\"/></a> <a href=\"https://weibo.cn/mblog/oripic?id=JdElFio5c&amp;u=005umQwagy1gh9fev3w3mj31o0280hdt\">原图</a> <a href=\"https://weibo.cn/attitude/JdElFio5c/add?uid=6146688642&amp;rl=0&amp;st=690cae\">赞[13149]</a> <a href=\"https://weibo.cn/repost/JdElFio5c?uid=5029399338&amp;rl=0\">转发[1094]</a> <a class=\"cc\" href=\"https://weibo.cn/comment/JdElFio5c?uid=5029399338&amp;rl=0#cmtfrm\">评论[1262]</a> <a href=\"https://weibo.cn/fav/addFav/JdElFio5c?rl=0&amp;st=690cae\">收藏</a><!-- --> <span class=\"ct\">07月30日 23:41 来自iPhone 11 Pro</span></div></div>,\n",
       " <div class=\"c\" id=\"M_JdtWOp8HC\"><div><span class=\"ctt\">大家都幸福了吧？🐶🐶 </span> [<a href=\"https://weibo.cn/mblog/picAll/JdtWOp8HC?rl=1\">组图共3张</a>]</div><div><a href=\"https://weibo.cn/mblog/pic/JdtWOp8HC?rl=0\"><img alt=\"图片\" class=\"ib\" src=\"http://wx1.sinaimg.cn/wap180/005umQwagy1gh85hpp1zej32c03401l2.jpg\"/></a> <a href=\"https://weibo.cn/mblog/oripic?id=JdtWOp8HC&amp;u=005umQwagy1gh85hpp1zej32c03401l2\">原图</a> <a href=\"https://weibo.cn/attitude/JdtWOp8HC/add?uid=6146688642&amp;rl=0&amp;st=690cae\">赞[11875]</a> <a href=\"https://weibo.cn/repost/JdtWOp8HC?uid=5029399338&amp;rl=0\">转发[1034]</a> <a class=\"cc\" href=\"https://weibo.cn/comment/JdtWOp8HC?uid=5029399338&amp;rl=0#cmtfrm\">评论[1501]</a> <a href=\"https://weibo.cn/fav/addFav/JdtWOp8HC?rl=0&amp;st=690cae\">收藏</a><!-- --> <span class=\"ct\">07月29日 21:12 来自iPhone 11 Pro</span></div></div>]"
      ]
     },
     "execution_count": 151,
     "metadata": {},
     "output_type": "execute_result"
    }
   ],
   "source": [
    "cards"
   ]
  },
  {
   "cell_type": "code",
   "execution_count": 131,
   "metadata": {
    "ExecuteTime": {
     "end_time": "2020-10-19T09:07:54.505941Z",
     "start_time": "2020-10-19T09:07:54.496997Z"
    }
   },
   "outputs": [
    {
     "data": {
      "text/plain": [
       "['曾经很有自信... 😅\\u202c ',\n",
       " '人累不要紧，只要心不累就好办。 ',\n",
       " '笑吧 笑吧 笑吧 😁 ',\n",
       " '如果没有能力改变现状， 我就要控制我自己的情绪。 ',\n",
       " '굿밤 🌝 ',\n",
       " '吓一跳。🐝🐝🐝 ',\n",
       " '🥬🥒🌶🌽🥕 @SUPERJUNIOR ',\n",
       " '分身术 🍀 ',\n",
       " '예욱한 밤 🌙 #goodnight# ',\n",
       " '大家都幸福了吧？🐶🐶 ']"
      ]
     },
     "execution_count": 131,
     "metadata": {},
     "output_type": "execute_result"
    }
   ],
   "source": [
    "# cards[0].div.span.a.text为视频的固定表达，如“Yesung110684的微博视频”\n",
    "content = [card.div.span.text.split(cards[0].div.span.a.text)[0] for card in cards]\n",
    "content"
   ]
  },
  {
   "cell_type": "code",
   "execution_count": 189,
   "metadata": {
    "ExecuteTime": {
     "end_time": "2020-10-19T09:54:32.547797Z",
     "start_time": "2020-10-19T09:54:32.535824Z"
    },
    "scrolled": true
   },
   "outputs": [
    {
     "data": {
      "text/plain": [
       "(['08月06日 17:44',\n",
       "  '08月06日 11:08',\n",
       "  '08月05日 19:53',\n",
       "  '08月05日 13:36',\n",
       "  '08月03日 21:58',\n",
       "  '08月02日 16:35',\n",
       "  '08月02日 12:15',\n",
       "  '07月31日 19:42',\n",
       "  '07月30日 23:41',\n",
       "  '07月29日 21:12'],\n",
       " ['iPhone 11 Pro',\n",
       "  'iPhone 11 Pro',\n",
       "  'iPhone 11 Pro',\n",
       "  'iPhone 11 Pro',\n",
       "  'iPhone 11 Pro',\n",
       "  'iPhone 11 Pro',\n",
       "  'iPhone 11 Pro',\n",
       "  'iPhone 11 Pro',\n",
       "  'iPhone 11 Pro',\n",
       "  'iPhone 11 Pro'])"
      ]
     },
     "execution_count": 189,
     "metadata": {},
     "output_type": "execute_result"
    }
   ],
   "source": [
    "tm = [card.find('span', class_='ct').text.split('\\xa0来自')[0] for card in cards]\n",
    "source = [card.find('span', class_='ct').text.split('\\xa0来自')[1] for card in cards]\n",
    "tm,source"
   ]
  },
  {
   "cell_type": "code",
   "execution_count": 76,
   "metadata": {
    "ExecuteTime": {
     "end_time": "2020-10-18T16:35:12.496091Z",
     "start_time": "2020-10-18T16:35:12.488112Z"
    }
   },
   "outputs": [],
   "source": [
    "video_col = [card.div.span.find_all('a')[-1].text if (card.div.span.a is not None) else '0' for card in cards]\n",
    "video = [1 if (re.search('视频', unit) is not None) else 0 for unit in video_col]"
   ]
  },
  {
   "cell_type": "code",
   "execution_count": 40,
   "metadata": {
    "ExecuteTime": {
     "end_time": "2020-10-18T16:25:10.437304Z",
     "start_time": "2020-10-18T16:25:10.429532Z"
    }
   },
   "outputs": [
    {
     "data": {
      "text/plain": [
       "[1, 0, 0, 0, 0, 1, 0, 0, 0, 0]"
      ]
     },
     "execution_count": 40,
     "metadata": {},
     "output_type": "execute_result"
    }
   ],
   "source": [
    "video"
   ]
  },
  {
   "cell_type": "code",
   "execution_count": 164,
   "metadata": {
    "ExecuteTime": {
     "end_time": "2020-10-19T09:35:07.816140Z",
     "start_time": "2020-10-19T09:35:07.807132Z"
    }
   },
   "outputs": [
    {
     "data": {
      "text/plain": [
       "[0,\n",
       " <a href=\"https://weibo.cn/mblog/picAll/JeDpi3c1g?rl=1\">组图共2张</a>,\n",
       " <a href=\"https://weibo.cn/mblog/picAll/JexqblzQ5?rl=1\">组图共4张</a>,\n",
       " <a href=\"https://weibo.cn/mblog/pic/JeuX7yvdr?rl=0\"><img alt=\"图片\" class=\"ib\" src=\"http://wx3.sinaimg.cn/wap180/005umQwagy1ghfvndj2hij30u0190wqt.jpg\"/></a>,\n",
       " <a href=\"https://weibo.cn/mblog/picAll/JefnWxpIh?rl=1\">组图共3张</a>,\n",
       " 0,\n",
       " 0,\n",
       " <a href=\"https://weibo.cn/mblog/pic/JdMcWqZc3?rl=0\"><img alt=\"图片\" class=\"ib\" src=\"http://wx2.sinaimg.cn/wap180/005umQwagy1ghae3z4rc1j31o02yo1ky.jpg\"/></a>,\n",
       " 0,\n",
       " <a href=\"https://weibo.cn/mblog/picAll/JdtWOp8HC?rl=1\">组图共3张</a>]"
      ]
     },
     "execution_count": 164,
     "metadata": {},
     "output_type": "execute_result"
    }
   ],
   "source": [
    "photo_col = [card.find_all('a')[0] if (re.findall('图',card.find_all('a')[0].text) != [])|(card.find_all('a')[0].find('img') is not None) else 0 for card in cards]\n",
    "photo_col"
   ]
  },
  {
   "cell_type": "code",
   "execution_count": 165,
   "metadata": {
    "ExecuteTime": {
     "end_time": "2020-10-19T09:35:08.416552Z",
     "start_time": "2020-10-19T09:35:08.409608Z"
    }
   },
   "outputs": [
    {
     "data": {
      "text/plain": [
       "[0,\n",
       " <a href=\"https://weibo.cn/mblog/picAll/JeDpi3c1g?rl=1\">组图共2张</a>,\n",
       " <a href=\"https://weibo.cn/mblog/picAll/JexqblzQ5?rl=1\">组图共4张</a>,\n",
       " <a href=\"https://weibo.cn/mblog/pic/JeuX7yvdr?rl=0\"><img alt=\"图片\" class=\"ib\" src=\"http://wx3.sinaimg.cn/wap180/005umQwagy1ghfvndj2hij30u0190wqt.jpg\"/></a>,\n",
       " <a href=\"https://weibo.cn/mblog/picAll/JefnWxpIh?rl=1\">组图共3张</a>,\n",
       " 0,\n",
       " 0,\n",
       " <a href=\"https://weibo.cn/mblog/pic/JdMcWqZc3?rl=0\"><img alt=\"图片\" class=\"ib\" src=\"http://wx2.sinaimg.cn/wap180/005umQwagy1ghae3z4rc1j31o02yo1ky.jpg\"/></a>,\n",
       " 0,\n",
       " <a href=\"https://weibo.cn/mblog/picAll/JdtWOp8HC?rl=1\">组图共3张</a>]"
      ]
     },
     "execution_count": 165,
     "metadata": {},
     "output_type": "execute_result"
    }
   ],
   "source": [
    "photo_col"
   ]
  },
  {
   "cell_type": "code",
   "execution_count": 167,
   "metadata": {
    "ExecuteTime": {
     "end_time": "2020-10-19T09:35:17.760641Z",
     "start_time": "2020-10-19T09:35:17.756222Z"
    }
   },
   "outputs": [],
   "source": [
    "photo = []\n",
    "for this_photo in photo_col:\n",
    "    if type(this_photo) == int:\n",
    "        photo.append('0')\n",
    "    else: \n",
    "        if re.findall('图',this_photo.text) != []:\n",
    "            photo.append(re.findall('[0-9]+', this_photo.text)[0])\n",
    "        else:\n",
    "            photo.append('1')"
   ]
  },
  {
   "cell_type": "code",
   "execution_count": 168,
   "metadata": {
    "ExecuteTime": {
     "end_time": "2020-10-19T09:35:19.252554Z",
     "start_time": "2020-10-19T09:35:19.246570Z"
    }
   },
   "outputs": [
    {
     "data": {
      "text/plain": [
       "['0', '2', '4', '1', '3', '0', '0', '1', '0', '3']"
      ]
     },
     "execution_count": 168,
     "metadata": {},
     "output_type": "execute_result"
    }
   ],
   "source": [
    "photo"
   ]
  },
  {
   "cell_type": "code",
   "execution_count": 169,
   "metadata": {
    "ExecuteTime": {
     "end_time": "2020-10-19T09:35:21.575463Z",
     "start_time": "2020-10-19T09:35:21.570477Z"
    }
   },
   "outputs": [],
   "source": [
    "photo = [*map(lambda x: int(x), photo)]"
   ]
  },
  {
   "cell_type": "code",
   "execution_count": 170,
   "metadata": {
    "ExecuteTime": {
     "end_time": "2020-10-19T09:35:23.418943Z",
     "start_time": "2020-10-19T09:35:23.412990Z"
    }
   },
   "outputs": [
    {
     "data": {
      "text/plain": [
       "[0, 2, 4, 1, 3, 0, 0, 1, 0, 3]"
      ]
     },
     "execution_count": 170,
     "metadata": {},
     "output_type": "execute_result"
    }
   ],
   "source": [
    "photo"
   ]
  },
  {
   "cell_type": "code",
   "execution_count": 109,
   "metadata": {
    "ExecuteTime": {
     "end_time": "2020-10-19T08:54:57.105314Z",
     "start_time": "2020-10-19T08:54:57.101293Z"
    }
   },
   "outputs": [],
   "source": [
    "attitude_reg = re.compile(r'^https://weibo.cn/attitude/')\n",
    "repost_reg = re.compile(r'^https://weibo.cn/repost/')\n",
    "cc_reg = re.compile(r'^https://weibo.cn/comment/')"
   ]
  },
  {
   "cell_type": "code",
   "execution_count": 123,
   "metadata": {
    "ExecuteTime": {
     "end_time": "2020-10-19T09:00:32.996385Z",
     "start_time": "2020-10-19T09:00:32.981834Z"
    }
   },
   "outputs": [],
   "source": [
    "zans = [card.find_all('a', href = attitude_reg)[0] for card in cards]\n",
    "zan_nums = [int(re.findall('[0-9]+',zan.text)[0]) for zan in zans]\n",
    "\n",
    "repos = [card.find_all('a', href = repost_reg)[0] for card in cards]\n",
    "repo_nums = [int(re.findall('[0-9]+',repo.text)[0]) for repo in repos]\n",
    "\n",
    "ccs = [card.find_all('a', href = cc_reg)[0] for card in cards]\n",
    "cc_nums = [int(re.findall('[0-9]+', cc.text)[0]) for cc in ccs]"
   ]
  },
  {
   "cell_type": "code",
   "execution_count": 132,
   "metadata": {
    "ExecuteTime": {
     "end_time": "2020-10-19T09:07:58.363032Z",
     "start_time": "2020-10-19T09:07:58.358947Z"
    }
   },
   "outputs": [],
   "source": [
    "page_dict = {\n",
    "    'content': content,\n",
    "    'time': tm,\n",
    "    'source': source,\n",
    "    'video': video,\n",
    "    'photo': photo,\n",
    "    'zan': zan_nums,\n",
    "    'repo': repo_nums,\n",
    "    'cc': cc_nums\n",
    "}"
   ]
  },
  {
   "cell_type": "code",
   "execution_count": 133,
   "metadata": {
    "ExecuteTime": {
     "end_time": "2020-10-19T09:08:07.696846Z",
     "start_time": "2020-10-19T09:08:07.646289Z"
    }
   },
   "outputs": [
    {
     "data": {
      "text/html": [
       "<div>\n",
       "<style scoped>\n",
       "    .dataframe tbody tr th:only-of-type {\n",
       "        vertical-align: middle;\n",
       "    }\n",
       "\n",
       "    .dataframe tbody tr th {\n",
       "        vertical-align: top;\n",
       "    }\n",
       "\n",
       "    .dataframe thead th {\n",
       "        text-align: right;\n",
       "    }\n",
       "</style>\n",
       "<table border=\"1\" class=\"dataframe\">\n",
       "  <thead>\n",
       "    <tr style=\"text-align: right;\">\n",
       "      <th></th>\n",
       "      <th>content</th>\n",
       "      <th>time</th>\n",
       "      <th>source</th>\n",
       "      <th>video</th>\n",
       "      <th>photo</th>\n",
       "      <th>zan</th>\n",
       "      <th>repo</th>\n",
       "      <th>cc</th>\n",
       "    </tr>\n",
       "  </thead>\n",
       "  <tbody>\n",
       "    <tr>\n",
       "      <th>0</th>\n",
       "      <td>曾经很有自信... 😅‬</td>\n",
       "      <td>08月06日 17:44</td>\n",
       "      <td>iPhone 11 Pro</td>\n",
       "      <td>1</td>\n",
       "      <td>0</td>\n",
       "      <td>16988</td>\n",
       "      <td>1618</td>\n",
       "      <td>10243</td>\n",
       "    </tr>\n",
       "    <tr>\n",
       "      <th>1</th>\n",
       "      <td>人累不要紧，只要心不累就好办。</td>\n",
       "      <td>08月06日 11:08</td>\n",
       "      <td>iPhone 11 Pro</td>\n",
       "      <td>0</td>\n",
       "      <td>2</td>\n",
       "      <td>18497</td>\n",
       "      <td>2327</td>\n",
       "      <td>2657</td>\n",
       "    </tr>\n",
       "    <tr>\n",
       "      <th>2</th>\n",
       "      <td>笑吧 笑吧 笑吧 😁</td>\n",
       "      <td>08月05日 19:53</td>\n",
       "      <td>iPhone 11 Pro</td>\n",
       "      <td>0</td>\n",
       "      <td>4</td>\n",
       "      <td>17959</td>\n",
       "      <td>1790</td>\n",
       "      <td>2337</td>\n",
       "    </tr>\n",
       "    <tr>\n",
       "      <th>3</th>\n",
       "      <td>如果没有能力改变现状， 我就要控制我自己的情绪。</td>\n",
       "      <td>08月05日 13:36</td>\n",
       "      <td>iPhone 11 Pro</td>\n",
       "      <td>0</td>\n",
       "      <td>1</td>\n",
       "      <td>18117</td>\n",
       "      <td>1717</td>\n",
       "      <td>1727</td>\n",
       "    </tr>\n",
       "    <tr>\n",
       "      <th>4</th>\n",
       "      <td>굿밤 🌝</td>\n",
       "      <td>08月03日 21:58</td>\n",
       "      <td>iPhone 11 Pro</td>\n",
       "      <td>0</td>\n",
       "      <td>3</td>\n",
       "      <td>14195</td>\n",
       "      <td>1470</td>\n",
       "      <td>1766</td>\n",
       "    </tr>\n",
       "    <tr>\n",
       "      <th>5</th>\n",
       "      <td>吓一跳。🐝🐝🐝</td>\n",
       "      <td>08月02日 16:35</td>\n",
       "      <td>iPhone 11 Pro</td>\n",
       "      <td>1</td>\n",
       "      <td>0</td>\n",
       "      <td>16438</td>\n",
       "      <td>1652</td>\n",
       "      <td>1606</td>\n",
       "    </tr>\n",
       "    <tr>\n",
       "      <th>6</th>\n",
       "      <td>🥬🥒🌶🌽🥕 @SUPERJUNIOR</td>\n",
       "      <td>08月02日 12:15</td>\n",
       "      <td>iPhone 11 Pro</td>\n",
       "      <td>0</td>\n",
       "      <td>0</td>\n",
       "      <td>15678</td>\n",
       "      <td>2040</td>\n",
       "      <td>1693</td>\n",
       "    </tr>\n",
       "    <tr>\n",
       "      <th>7</th>\n",
       "      <td>分身术 🍀</td>\n",
       "      <td>07月31日 19:42</td>\n",
       "      <td>iPhone 11 Pro</td>\n",
       "      <td>0</td>\n",
       "      <td>1</td>\n",
       "      <td>12881</td>\n",
       "      <td>1106</td>\n",
       "      <td>1508</td>\n",
       "    </tr>\n",
       "    <tr>\n",
       "      <th>8</th>\n",
       "      <td>예욱한 밤 🌙 #goodnight#</td>\n",
       "      <td>07月30日 23:41</td>\n",
       "      <td>iPhone 11 Pro</td>\n",
       "      <td>0</td>\n",
       "      <td>0</td>\n",
       "      <td>13150</td>\n",
       "      <td>1094</td>\n",
       "      <td>1262</td>\n",
       "    </tr>\n",
       "    <tr>\n",
       "      <th>9</th>\n",
       "      <td>大家都幸福了吧？🐶🐶</td>\n",
       "      <td>07月29日 21:12</td>\n",
       "      <td>iPhone 11 Pro</td>\n",
       "      <td>0</td>\n",
       "      <td>3</td>\n",
       "      <td>11875</td>\n",
       "      <td>1034</td>\n",
       "      <td>1501</td>\n",
       "    </tr>\n",
       "  </tbody>\n",
       "</table>\n",
       "</div>"
      ],
      "text/plain": [
       "                     content          time         source  video  photo  \\\n",
       "0              曾经很有自信... 😅‬   08月06日 17:44  iPhone 11 Pro      1      0   \n",
       "1           人累不要紧，只要心不累就好办。   08月06日 11:08  iPhone 11 Pro      0      2   \n",
       "2                笑吧 笑吧 笑吧 😁   08月05日 19:53  iPhone 11 Pro      0      4   \n",
       "3  如果没有能力改变现状， 我就要控制我自己的情绪。   08月05日 13:36  iPhone 11 Pro      0      1   \n",
       "4                      굿밤 🌝   08月03日 21:58  iPhone 11 Pro      0      3   \n",
       "5                   吓一跳。🐝🐝🐝   08月02日 16:35  iPhone 11 Pro      1      0   \n",
       "6        🥬🥒🌶🌽🥕 @SUPERJUNIOR   08月02日 12:15  iPhone 11 Pro      0      0   \n",
       "7                     分身术 🍀   07月31日 19:42  iPhone 11 Pro      0      1   \n",
       "8       예욱한 밤 🌙 #goodnight#   07月30日 23:41  iPhone 11 Pro      0      0   \n",
       "9                大家都幸福了吧？🐶🐶   07月29日 21:12  iPhone 11 Pro      0      3   \n",
       "\n",
       "     zan  repo     cc  \n",
       "0  16988  1618  10243  \n",
       "1  18497  2327   2657  \n",
       "2  17959  1790   2337  \n",
       "3  18117  1717   1727  \n",
       "4  14195  1470   1766  \n",
       "5  16438  1652   1606  \n",
       "6  15678  2040   1693  \n",
       "7  12881  1106   1508  \n",
       "8  13150  1094   1262  \n",
       "9  11875  1034   1501  "
      ]
     },
     "execution_count": 133,
     "metadata": {},
     "output_type": "execute_result"
    }
   ],
   "source": [
    "pd.DataFrame(page_dict)"
   ]
  },
  {
   "cell_type": "markdown",
   "metadata": {},
   "source": [
    "## 循环for 1 user set pages"
   ]
  },
  {
   "cell_type": "markdown",
   "metadata": {},
   "source": [
    "### 存储1个用户的指定weibo页面"
   ]
  },
  {
   "cell_type": "code",
   "execution_count": 3,
   "metadata": {
    "ExecuteTime": {
     "end_time": "2020-10-19T16:08:53.020752Z",
     "start_time": "2020-10-19T16:08:53.006735Z"
    }
   },
   "outputs": [],
   "source": [
    "def store_user_pages(user_name, user_url, maxp, minp = 1):\n",
    "    '''\n",
    "    Reads the user's assigned pages of weibo\n",
    "    Input: \n",
    "    - user's name(str) used as file name, \n",
    "    - user's whichever-page url (str), \n",
    "    - the range of pages you want to grab: minp(int), maxp(str)\n",
    "    Output: all the weibo pages stored in folder created at the time the function is requested\n",
    "    '''\n",
    "    # get the url_list\n",
    "    clean_url = re.sub(r'\\?.+?=.+?', '', user_url)\n",
    "    url_list = [clean_url + '?page=' + str(page) for page in range(minp, maxp+1)]\n",
    "    \n",
    "    # set request session\n",
    "    headers = {\n",
    "    # pretend I am a browser\n",
    "   'User-Agent': 'Mozilla/5.0 (iPhone; CPU iPhone OS 13_2_3 like Mac OS X) AppleWebKit/605.1.15 (KHTML, like Gecko) Version/13.0.3 Mobile/15E148 Safari/604.1',\n",
    "   'cookie': '_T_WM=34953442506; SCF=Ajk-YV78pP2M6RQSDe4wfly_80RM9Q-4QymuM7cR3PdtCVC_zNKISHgzwvdCHM_kaiOGv3aTY_4BOv21hRAMiq0.; SUB=_2A25yj94CDeRhGeBP71QX-CbKzz6IHXVuc-JKrDV6PUJbktANLUL6kW1NRUxjc1DvrIOejhkvv8vmZCt1pSz-euBg; SUBP=0033WrSXqPxfM725Ws9jqgMF55529P9D9WhsbQaHX4CfzZMfTWwKPfgk5NHD95QceKBcSonRSoBEWs4Dqcj.i--Xi-z4iKL2i--ciKLhiKL2i--Xi-zRiKn7i--fiKn4iK.p; SUHB=0bt8gOFsGDjHnO; SSOLoginState=1602989650; WEIBOCN_FROM=1110103030; MLOGIN=1; M_WEIBOCN_PARAMS=luicode%3D10000011%26lfid%3D1076035029399338%26fid%3D1005055029399338%26uicode%3D10000011; XSRF-TOKEN=98e6c5'\n",
    "   }\n",
    "    session = requests.Session()\n",
    "    \n",
    "    # set folder and file_name(file_name = 'username page_num.html')\n",
    "    zfill_n = len(str(maxp - minp))\n",
    "    folder_name = user_name + ' ' + str(datetime.datetime.now().strftime('%Y-%m-%d %H_%M'))\n",
    "    folder_path = os.getcwd()+'\\\\'+ user_name + '\\\\' + folder_name\n",
    "    if not os.path.exists(folder_path):\n",
    "        os.makedirs(folder_path)\n",
    "    \n",
    "    # save all the weibo pages in this folder\n",
    "    for url in url_list:\n",
    "        page = session.get(url, headers = headers)\n",
    "        soup = BeautifulSoup(page.text)\n",
    "        file_name = user_name + ' ' + str(minp).zfill(zfill_n) + '.html'\n",
    "        name_wdir = os.path.join(folder_path, file_name)\n",
    "        with open(name_wdir, \"w\", encoding='utf-8') as f:\n",
    "            f.write(str(soup))\n",
    "        \n",
    "        time.sleep(np.random.randint(1,2) + np.random.random())\n",
    "        minp += 1"
   ]
  },
  {
   "cell_type": "markdown",
   "metadata": {},
   "source": [
    "### 选择要提取的weibo"
   ]
  },
  {
   "cell_type": "markdown",
   "metadata": {},
   "source": [
    "获得所有folder"
   ]
  },
  {
   "cell_type": "code",
   "execution_count": 4,
   "metadata": {
    "ExecuteTime": {
     "end_time": "2020-10-20T04:15:27.932056Z",
     "start_time": "2020-10-20T04:15:27.925205Z"
    }
   },
   "outputs": [],
   "source": [
    "def get_folders(user):\n",
    "    '''\n",
    "    Get list folders that contain weibos\n",
    "    '''\n",
    "    all_items = os.listdir(os.getcwd()+ f'\\\\{user}')\n",
    "    folder_bool = [True if (re.match(f'^{user}', file) is not None) & (re.match(r'.+?\\.html$', file) is None) else False for file in all_items]\n",
    "    folder_list = []\n",
    "    for idx in range(len(all_items)):\n",
    "        if folder_bool[idx] == True:\n",
    "            folder_list.append(all_items[idx])\n",
    "    return folder_list"
   ]
  },
  {
   "cell_type": "markdown",
   "metadata": {},
   "source": [
    "读取该user指定folder里的基本信息和所有weibo"
   ]
  },
  {
   "cell_type": "code",
   "execution_count": 20,
   "metadata": {
    "ExecuteTime": {
     "end_time": "2020-10-20T04:22:25.210946Z",
     "start_time": "2020-10-20T04:22:25.198773Z"
    }
   },
   "outputs": [],
   "source": [
    "def get_basic_info(user, folder_idx):\n",
    "    \n",
    "    file = glob.glob(f'{user}'+ '\\\\'+ get_folders(user)[folder_idx] + '\\\\*.html')[0]\n",
    "    page = open(file, \"r\", encoding=\"utf-8\").read()\n",
    "    soup = BeautifulSoup(page)\n",
    "    \n",
    "    info = soup.find('span', {'class': 'ctt'})\n",
    "    user_alias = info.img.parent.get_text().strip(info.span.string).split('\\xa0')[0]\n",
    "    basic = ''.join((info.img.parent.get_text().strip(info.span.string).split('\\xa0')[1]).split())\n",
    "    renzheng = soup.find('div', class_ = 'u').find_all('span', class_ = 'ctt')[1].text\n",
    "    descrp = soup.find('div', class_ = 'u').find_all('span', class_ = 'ctt')[2].text\n",
    "    \n",
    "    tip2 = soup.find('div', class_ = 'tip2')\n",
    "    weibo_num, follow, follower = re.findall('[0-9]+', tip2.text)[:3]\n",
    "    \n",
    "    maxpage = int(soup.find('input', {'name': 'mp'})['value'])\n",
    "    basic_dict = dict({'user_alias':user_alias,\n",
    "                        'basic': basic,\n",
    "                        'certify': renzheng,\n",
    "                        'desciption': descrp,\n",
    "                        'weibo_cnt':weibo_num,\n",
    "                        'follow':follow,\n",
    "                        'follower':follower,\n",
    "                        'maxpage': maxpage})\n",
    "    return basic_dict"
   ]
  },
  {
   "cell_type": "code",
   "execution_count": 6,
   "metadata": {
    "ExecuteTime": {
     "end_time": "2020-10-19T16:09:00.184210Z",
     "start_time": "2020-10-19T16:09:00.176070Z"
    }
   },
   "outputs": [],
   "source": [
    "def read_user(user, folder_idx):\n",
    "    '''\n",
    "    Reads the user's assigned pages of weibo\n",
    "    Input: user's url - htm, the number of first pages you want to grab \n",
    "    Output: dataframe for all the weibos\n",
    "    \n",
    "    '''\n",
    "    weibo_df = pd.DataFrame()\n",
    "    file_list = glob.glob(f'{user}'+ '\\\\'+ get_folders(user)[folder_idx] + '\\\\*.html')\n",
    "    for file_name in file_list:\n",
    "        page = open(file_name, \"r\", encoding=\"utf-8\").read()\n",
    "        soup = BeautifulSoup(page)\n",
    "        cards = get_cards(soup)\n",
    "        weibo_df = weibo_df.append(read_card(cards)).reset_index(drop = True)\n",
    "        \n",
    "    return weibo_df       "
   ]
  },
  {
   "cell_type": "markdown",
   "metadata": {},
   "source": [
    "从一页weibo上获得所有weibo卡片"
   ]
  },
  {
   "cell_type": "code",
   "execution_count": 7,
   "metadata": {
    "ExecuteTime": {
     "end_time": "2020-10-19T16:09:01.631234Z",
     "start_time": "2020-10-19T16:09:01.625780Z"
    }
   },
   "outputs": [],
   "source": [
    "def get_cards(soup):\n",
    "    cards = soup.find_all('div', {'class': 'c', 'id': not None})\n",
    "    return cards"
   ]
  },
  {
   "cell_type": "markdown",
   "metadata": {},
   "source": [
    "读取weibo卡片内容"
   ]
  },
  {
   "cell_type": "code",
   "execution_count": 31,
   "metadata": {
    "ExecuteTime": {
     "end_time": "2020-10-19T16:19:51.011478Z",
     "start_time": "2020-10-19T16:19:51.005920Z"
    }
   },
   "outputs": [],
   "source": [
    "def read_card(cards):\n",
    "    '''\n",
    "    This function can read the weibo contents, release time, source, media, and responses on 1 page\n",
    "    Input: cards(all the divs on 1 weibo page)\n",
    "    Output: a dataframe\n",
    "    \n",
    "    '''\n",
    "    card_dict = dict(card_info(basic_info['user_alias'], cards), **card_media(cards), **card_zzp(cards))\n",
    "    return pd.DataFrame(card_dict)"
   ]
  },
  {
   "cell_type": "code",
   "execution_count": 32,
   "metadata": {
    "ExecuteTime": {
     "end_time": "2020-10-19T16:19:53.805897Z",
     "start_time": "2020-10-19T16:19:53.796886Z"
    }
   },
   "outputs": [],
   "source": [
    "def card_info(user_alias, cards):\n",
    "    \n",
    "    video_text = user_alias + '的微博视频'\n",
    "    \n",
    "    content = [card.div.span.text.split(video_text)[0] if card.div.span.text is not None else None for card in cards]\n",
    "    tm = [card.find('span', class_='ct').text.split('\\xa0来自')[0] for card in cards]\n",
    "    source = [card.find('span', class_='ct').text.split('\\xa0来自')[1] for card in cards]\n",
    "    return dict({\n",
    "        'content': content,\n",
    "        'time': tm,\n",
    "        'source': source\n",
    "    })"
   ]
  },
  {
   "cell_type": "code",
   "execution_count": 10,
   "metadata": {
    "ExecuteTime": {
     "end_time": "2020-10-19T16:09:03.663571Z",
     "start_time": "2020-10-19T16:09:03.649608Z"
    }
   },
   "outputs": [],
   "source": [
    "def card_media(cards):\n",
    "    video_col = [card.div.span.find_all('a')[-1].text if (card.div.span.a is not None) else '0' for card in cards]\n",
    "    video = [1 if (re.search('视频', unit) is not None) else 0 for unit in video_col]\n",
    "    \n",
    "    photo_col = [card.find_all('a')[0] if (re.findall('图',card.find_all('a')[0].text) != [])|(card.find_all('a')[0].find('img') is not None) else 0 for card in cards]\n",
    "    photo = []\n",
    "    for this_photo in photo_col:\n",
    "        if type(this_photo) == int:\n",
    "            photo.append('0')\n",
    "        else: \n",
    "            if re.findall('图',this_photo.text) != []:\n",
    "                photo.append(re.findall('[0-9]+', this_photo.text)[0])\n",
    "            else:\n",
    "                photo.append('1')\n",
    "    photo = [*map(lambda x: int(x), photo)]\n",
    "    \n",
    "    return dict({\n",
    "        'video': video,\n",
    "        'photo': photo\n",
    "    })  "
   ]
  },
  {
   "cell_type": "code",
   "execution_count": 35,
   "metadata": {
    "ExecuteTime": {
     "end_time": "2020-10-19T16:20:37.380646Z",
     "start_time": "2020-10-19T16:20:37.368426Z"
    }
   },
   "outputs": [],
   "source": [
    "attitude_reg = re.compile(r'^https://weibo.cn/attitude/')\n",
    "repost_reg = re.compile(r'^https://weibo.cn/repost/')\n",
    "cc_reg = re.compile(r'^https://weibo.cn/comment/')\n",
    "\n",
    "def card_zzp(cards):\n",
    "\n",
    "    zans = [card.find_all('a', href = attitude_reg)[0] for card in cards]\n",
    "    zan_nums = [int(re.findall('[0-9]+',zan.text)[0]) for zan in zans]\n",
    "\n",
    "    repos = [card.find_all('a', href = repost_reg)[0] for card in cards]\n",
    "    repo_nums = [int(re.findall('[0-9]+',repo.text)[0]) for repo in repos]\n",
    "\n",
    "    ccs = [card.find_all('a', href = cc_reg)[0] for card in cards]\n",
    "    cc_nums = [int(re.findall('[0-9]+', cc.text)[0]) for cc in ccs]\n",
    "\n",
    "    return dict({\n",
    "        'zan': zan_nums,\n",
    "        'repo': repo_nums,\n",
    "        'cc': cc_nums\n",
    "    })  "
   ]
  },
  {
   "cell_type": "markdown",
   "metadata": {},
   "source": [
    "### 演示：爬取艺声的所有微博"
   ]
  },
  {
   "cell_type": "code",
   "execution_count": 12,
   "metadata": {
    "ExecuteTime": {
     "end_time": "2020-10-19T16:09:06.487372Z",
     "start_time": "2020-10-19T16:09:06.482890Z"
    }
   },
   "outputs": [],
   "source": [
    "user = 'yesung'\n",
    "user_url = 'https://weibo.cn/u/5029399338'\n",
    "maxp = 212"
   ]
  },
  {
   "cell_type": "code",
   "execution_count": 386,
   "metadata": {
    "ExecuteTime": {
     "end_time": "2020-10-19T14:22:11.317179Z",
     "start_time": "2020-10-19T14:22:11.311197Z"
    }
   },
   "outputs": [],
   "source": [
    "if not os.path.exists(os.getcwd() + f'\\\\{user}'):\n",
    "    os.makedirs(os.getcwd() + f'\\\\{user}')"
   ]
  },
  {
   "cell_type": "code",
   "execution_count": 387,
   "metadata": {
    "ExecuteTime": {
     "end_time": "2020-10-19T14:29:59.626828Z",
     "start_time": "2020-10-19T14:22:20.814046Z"
    }
   },
   "outputs": [],
   "source": [
    "# 存储所有weibo到文件夹内\n",
    "store_user_pages(user, user_url, maxp = maxp)"
   ]
  },
  {
   "cell_type": "code",
   "execution_count": 13,
   "metadata": {
    "ExecuteTime": {
     "end_time": "2020-10-19T16:09:13.050948Z",
     "start_time": "2020-10-19T16:09:13.042117Z"
    }
   },
   "outputs": [
    {
     "data": {
      "text/plain": [
       "['yesung 2020-10-19 22_22']"
      ]
     },
     "execution_count": 13,
     "metadata": {},
     "output_type": "execute_result"
    }
   ],
   "source": [
    "# 目前该user的文件夹内有哪些时段的weibo状态呢？\n",
    "get_folders(user)"
   ]
  },
  {
   "cell_type": "code",
   "execution_count": 21,
   "metadata": {
    "ExecuteTime": {
     "end_time": "2020-10-20T04:22:29.873059Z",
     "start_time": "2020-10-20T04:22:29.852116Z"
    }
   },
   "outputs": [
    {
     "data": {
      "text/plain": [
       "{'user_alias': 'Yesung110684',\n",
       " 'basic': '男/海外',\n",
       " 'certify': '认证：韩国歌手，Super Junior组合成员艺声',\n",
       " 'desciption': '',\n",
       " 'weibo_cnt': '2115',\n",
       " 'follow': '11',\n",
       " 'follower': '2582789',\n",
       " 'maxpage': 212}"
      ]
     },
     "execution_count": 21,
     "metadata": {},
     "output_type": "execute_result"
    }
   ],
   "source": [
    "# 从选中的文件夹内获得用户basic info\n",
    "folder_idx = 0 #选中第1个文件夹 \n",
    "basic_info = get_basic_info(user, folder_idx)\n",
    "basic_info"
   ]
  },
  {
   "cell_type": "code",
   "execution_count": 172,
   "metadata": {
    "ExecuteTime": {
     "end_time": "2020-10-19T17:28:17.279457Z",
     "start_time": "2020-10-19T17:28:17.268444Z"
    }
   },
   "outputs": [],
   "source": [
    "file_location = os.getcwd()+ f'\\\\{user}' + f'\\\\{get_folders(user)[folder_idx]}'\n",
    "\n",
    "class JsonEncoder(json.JSONEncoder):\n",
    "\n",
    "    def default(self, obj):\n",
    "        if isinstance(obj, np.integer):\n",
    "            return int(obj)\n",
    "        elif isinstance(obj, np.floating):\n",
    "            return float(obj)\n",
    "        elif isinstance(obj, np.ndarray):\n",
    "            return obj.tolist()\n",
    "        elif isinstance(obj, datetime):                                 \n",
    "            return obj.__str__()\n",
    "        else:\n",
    "            return super(MyEncoder, self).default(obj)\n",
    "        \n",
    "with open(file_location+'\\\\basic_info.txt', \"w\", encoding='utf-8') as f:\n",
    "            json.dump(basic_info, f, ensure_ascii=False, cls=JsonEncoder)"
   ]
  },
  {
   "cell_type": "code",
   "execution_count": 36,
   "metadata": {
    "ExecuteTime": {
     "end_time": "2020-10-19T16:20:47.433654Z",
     "start_time": "2020-10-19T16:20:40.555979Z"
    }
   },
   "outputs": [],
   "source": [
    "yesung_weibo = read_user(user, folder_idx)"
   ]
  },
  {
   "cell_type": "code",
   "execution_count": 37,
   "metadata": {
    "ExecuteTime": {
     "end_time": "2020-10-19T16:20:51.444640Z",
     "start_time": "2020-10-19T16:20:51.418236Z"
    }
   },
   "outputs": [
    {
     "data": {
      "text/html": [
       "<div>\n",
       "<style scoped>\n",
       "    .dataframe tbody tr th:only-of-type {\n",
       "        vertical-align: middle;\n",
       "    }\n",
       "\n",
       "    .dataframe tbody tr th {\n",
       "        vertical-align: top;\n",
       "    }\n",
       "\n",
       "    .dataframe thead th {\n",
       "        text-align: right;\n",
       "    }\n",
       "</style>\n",
       "<table border=\"1\" class=\"dataframe\">\n",
       "  <thead>\n",
       "    <tr style=\"text-align: right;\">\n",
       "      <th></th>\n",
       "      <th>content</th>\n",
       "      <th>time</th>\n",
       "      <th>source</th>\n",
       "      <th>video</th>\n",
       "      <th>photo</th>\n",
       "      <th>zan</th>\n",
       "      <th>repo</th>\n",
       "      <th>cc</th>\n",
       "    </tr>\n",
       "  </thead>\n",
       "  <tbody>\n",
       "    <tr>\n",
       "      <th>0</th>\n",
       "      <td>曾经很有自信... 😅‬</td>\n",
       "      <td>08月06日 17:44</td>\n",
       "      <td>iPhone 11 Pro</td>\n",
       "      <td>1.0</td>\n",
       "      <td>0.0</td>\n",
       "      <td>17003.0</td>\n",
       "      <td>1619.0</td>\n",
       "      <td>10282.0</td>\n",
       "    </tr>\n",
       "    <tr>\n",
       "      <th>1</th>\n",
       "      <td>人累不要紧，只要心不累就好办。</td>\n",
       "      <td>08月06日 11:08</td>\n",
       "      <td>iPhone 11 Pro</td>\n",
       "      <td>0.0</td>\n",
       "      <td>2.0</td>\n",
       "      <td>18508.0</td>\n",
       "      <td>2327.0</td>\n",
       "      <td>2658.0</td>\n",
       "    </tr>\n",
       "    <tr>\n",
       "      <th>2</th>\n",
       "      <td>笑吧 笑吧 笑吧 😁</td>\n",
       "      <td>08月05日 19:53</td>\n",
       "      <td>iPhone 11 Pro</td>\n",
       "      <td>0.0</td>\n",
       "      <td>4.0</td>\n",
       "      <td>17966.0</td>\n",
       "      <td>1790.0</td>\n",
       "      <td>2338.0</td>\n",
       "    </tr>\n",
       "    <tr>\n",
       "      <th>3</th>\n",
       "      <td>如果没有能力改变现状， 我就要控制我自己的情绪。</td>\n",
       "      <td>08月05日 13:36</td>\n",
       "      <td>iPhone 11 Pro</td>\n",
       "      <td>0.0</td>\n",
       "      <td>1.0</td>\n",
       "      <td>18124.0</td>\n",
       "      <td>1718.0</td>\n",
       "      <td>1728.0</td>\n",
       "    </tr>\n",
       "    <tr>\n",
       "      <th>4</th>\n",
       "      <td>굿밤 🌝</td>\n",
       "      <td>08月03日 21:58</td>\n",
       "      <td>iPhone 11 Pro</td>\n",
       "      <td>0.0</td>\n",
       "      <td>3.0</td>\n",
       "      <td>14198.0</td>\n",
       "      <td>1470.0</td>\n",
       "      <td>1767.0</td>\n",
       "    </tr>\n",
       "    <tr>\n",
       "      <th>...</th>\n",
       "      <td>...</td>\n",
       "      <td>...</td>\n",
       "      <td>...</td>\n",
       "      <td>...</td>\n",
       "      <td>...</td>\n",
       "      <td>...</td>\n",
       "      <td>...</td>\n",
       "      <td>...</td>\n",
       "    </tr>\n",
       "    <tr>\n",
       "      <th>2081</th>\n",
       "      <td>Luhan &amp; Yesung ^^</td>\n",
       "      <td>2014-05-28 19:47:38</td>\n",
       "      <td>iPhone客户端</td>\n",
       "      <td>0.0</td>\n",
       "      <td>2.0</td>\n",
       "      <td>47312.0</td>\n",
       "      <td>13796.0</td>\n",
       "      <td>7636.0</td>\n",
       "    </tr>\n",
       "    <tr>\n",
       "      <th>2082</th>\n",
       "      <td>왕솜사탕 ~~ 그라고 예성잉 ^^</td>\n",
       "      <td>2014-05-03 20:00:30</td>\n",
       "      <td>iPhone客户端</td>\n",
       "      <td>0.0</td>\n",
       "      <td>4.0</td>\n",
       "      <td>15306.0</td>\n",
       "      <td>8023.0</td>\n",
       "      <td>5646.0</td>\n",
       "    </tr>\n",
       "    <tr>\n",
       "      <th>2083</th>\n",
       "      <td>내욕심이많았다 MV http://t.cn/8FHCwp3 일본어버젼 http://t....</td>\n",
       "      <td>2014-02-19 21:31:44</td>\n",
       "      <td>iPhone客户端</td>\n",
       "      <td>0.0</td>\n",
       "      <td>0.0</td>\n",
       "      <td>12963.0</td>\n",
       "      <td>5591.0</td>\n",
       "      <td>4379.0</td>\n",
       "    </tr>\n",
       "    <tr>\n",
       "      <th>2084</th>\n",
       "      <td>做个好梦，我们在梦中相见。</td>\n",
       "      <td>2014-02-09 22:38:28</td>\n",
       "      <td>iPhone客户端</td>\n",
       "      <td>0.0</td>\n",
       "      <td>1.0</td>\n",
       "      <td>23639.0</td>\n",
       "      <td>14937.0</td>\n",
       "      <td>13618.0</td>\n",
       "    </tr>\n",
       "    <tr>\n",
       "      <th>2085</th>\n",
       "      <td>艺声今天开始玩微博。ELF China应该会经常看到我吧？</td>\n",
       "      <td>2014-02-09 17:55:56</td>\n",
       "      <td>iPhone客户端</td>\n",
       "      <td>0.0</td>\n",
       "      <td>1.0</td>\n",
       "      <td>27876.0</td>\n",
       "      <td>24238.0</td>\n",
       "      <td>17884.0</td>\n",
       "    </tr>\n",
       "  </tbody>\n",
       "</table>\n",
       "<p>2086 rows × 8 columns</p>\n",
       "</div>"
      ],
      "text/plain": [
       "                                                content                 time  \\\n",
       "0                                         曾经很有自信... 😅‬          08月06日 17:44   \n",
       "1                                      人累不要紧，只要心不累就好办。          08月06日 11:08   \n",
       "2                                           笑吧 笑吧 笑吧 😁          08月05日 19:53   \n",
       "3                             如果没有能力改变现状， 我就要控制我自己的情绪。          08月05日 13:36   \n",
       "4                                                 굿밤 🌝          08月03日 21:58   \n",
       "...                                                 ...                  ...   \n",
       "2081                                Luhan & Yesung ^^    2014-05-28 19:47:38   \n",
       "2082                                왕솜사탕 ~~ 그라고 예성잉 ^^   2014-05-03 20:00:30   \n",
       "2083  내욕심이많았다 MV http://t.cn/8FHCwp3 일본어버젼 http://t....  2014-02-19 21:31:44   \n",
       "2084                                     做个好梦，我们在梦中相见。   2014-02-09 22:38:28   \n",
       "2085                     艺声今天开始玩微博。ELF China应该会经常看到我吧？   2014-02-09 17:55:56   \n",
       "\n",
       "             source  video  photo      zan     repo       cc  \n",
       "0     iPhone 11 Pro    1.0    0.0  17003.0   1619.0  10282.0  \n",
       "1     iPhone 11 Pro    0.0    2.0  18508.0   2327.0   2658.0  \n",
       "2     iPhone 11 Pro    0.0    4.0  17966.0   1790.0   2338.0  \n",
       "3     iPhone 11 Pro    0.0    1.0  18124.0   1718.0   1728.0  \n",
       "4     iPhone 11 Pro    0.0    3.0  14198.0   1470.0   1767.0  \n",
       "...             ...    ...    ...      ...      ...      ...  \n",
       "2081      iPhone客户端    0.0    2.0  47312.0  13796.0   7636.0  \n",
       "2082      iPhone客户端    0.0    4.0  15306.0   8023.0   5646.0  \n",
       "2083      iPhone客户端    0.0    0.0  12963.0   5591.0   4379.0  \n",
       "2084      iPhone客户端    0.0    1.0  23639.0  14937.0  13618.0  \n",
       "2085      iPhone客户端    0.0    1.0  27876.0  24238.0  17884.0  \n",
       "\n",
       "[2086 rows x 8 columns]"
      ]
     },
     "execution_count": 37,
     "metadata": {},
     "output_type": "execute_result"
    }
   ],
   "source": [
    "yesung_weibo"
   ]
  },
  {
   "cell_type": "markdown",
   "metadata": {},
   "source": [
    "__Congratulations! 得到了一个脏脏的数据集！__\n",
    "\n",
    "### 数据清洗"
   ]
  },
  {
   "cell_type": "code",
   "execution_count": 38,
   "metadata": {
    "ExecuteTime": {
     "end_time": "2020-10-19T16:22:15.100683Z",
     "start_time": "2020-10-19T16:22:15.081189Z"
    }
   },
   "outputs": [
    {
     "data": {
      "text/html": [
       "<div>\n",
       "<style scoped>\n",
       "    .dataframe tbody tr th:only-of-type {\n",
       "        vertical-align: middle;\n",
       "    }\n",
       "\n",
       "    .dataframe tbody tr th {\n",
       "        vertical-align: top;\n",
       "    }\n",
       "\n",
       "    .dataframe thead th {\n",
       "        text-align: right;\n",
       "    }\n",
       "</style>\n",
       "<table border=\"1\" class=\"dataframe\">\n",
       "  <thead>\n",
       "    <tr style=\"text-align: right;\">\n",
       "      <th></th>\n",
       "      <th>content</th>\n",
       "      <th>time</th>\n",
       "      <th>source</th>\n",
       "      <th>video</th>\n",
       "      <th>photo</th>\n",
       "      <th>zan</th>\n",
       "      <th>repo</th>\n",
       "      <th>cc</th>\n",
       "    </tr>\n",
       "  </thead>\n",
       "  <tbody>\n",
       "    <tr>\n",
       "      <th>673</th>\n",
       "      <td>완전 굿🕺🏻💃🏻 #푸에르자부르타##은혁#</td>\n",
       "      <td>2019-07-18 21:23:34</td>\n",
       "      <td>iPhone X</td>\n",
       "      <td>0.0</td>\n",
       "      <td>0.0</td>\n",
       "      <td>10835.0</td>\n",
       "      <td>1314.0</td>\n",
       "      <td>924.0</td>\n",
       "    </tr>\n",
       "    <tr>\n",
       "      <th>839</th>\n",
       "      <td>Let's go !! 🐾🐾🐾</td>\n",
       "      <td>2019-03-26 20:12:54</td>\n",
       "      <td>iPhone X</td>\n",
       "      <td>0.0</td>\n",
       "      <td>7.0</td>\n",
       "      <td>10983.0</td>\n",
       "      <td>1348.0</td>\n",
       "      <td>1146.0</td>\n",
       "    </tr>\n",
       "    <tr>\n",
       "      <th>2060</th>\n",
       "      <td>早安。</td>\n",
       "      <td>2015-01-03 08:05:35</td>\n",
       "      <td>iPhone 6</td>\n",
       "      <td>0.0</td>\n",
       "      <td>3.0</td>\n",
       "      <td>19654.0</td>\n",
       "      <td>4032.0</td>\n",
       "      <td>3250.0</td>\n",
       "    </tr>\n",
       "  </tbody>\n",
       "</table>\n",
       "</div>"
      ],
      "text/plain": [
       "                      content                 time    source  video  photo  \\\n",
       "673   완전 굿🕺🏻💃🏻 #푸에르자부르타##은혁#   2019-07-18 21:23:34  iPhone X    0.0    0.0   \n",
       "839          Let's go !! 🐾🐾🐾   2019-03-26 20:12:54  iPhone X    0.0    7.0   \n",
       "2060                     早安。   2015-01-03 08:05:35  iPhone 6    0.0    3.0   \n",
       "\n",
       "          zan    repo      cc  \n",
       "673   10835.0  1314.0   924.0  \n",
       "839   10983.0  1348.0  1146.0  \n",
       "2060  19654.0  4032.0  3250.0  "
      ]
     },
     "execution_count": 38,
     "metadata": {},
     "output_type": "execute_result"
    }
   ],
   "source": [
    "yesung_weibo.sample(3)"
   ]
  },
  {
   "cell_type": "code",
   "execution_count": 42,
   "metadata": {
    "ExecuteTime": {
     "end_time": "2020-10-19T16:23:36.007057Z",
     "start_time": "2020-10-19T16:23:35.991717Z"
    }
   },
   "outputs": [
    {
     "name": "stdout",
     "output_type": "stream",
     "text": [
      "<class 'pandas.core.frame.DataFrame'>\n",
      "RangeIndex: 2086 entries, 0 to 2085\n",
      "Data columns (total 8 columns):\n",
      "content    2086 non-null object\n",
      "time       2086 non-null object\n",
      "source     2086 non-null object\n",
      "video      2086 non-null float64\n",
      "photo      2086 non-null float64\n",
      "zan        2086 non-null float64\n",
      "repo       2086 non-null float64\n",
      "cc         2086 non-null float64\n",
      "dtypes: float64(5), object(3)\n",
      "memory usage: 130.5+ KB\n"
     ]
    }
   ],
   "source": [
    "yesung_weibo.info()"
   ]
  },
  {
   "cell_type": "markdown",
   "metadata": {},
   "source": [
    "to-do list\n",
    "- time -> datetime\n",
    "- video, photo, zan, repo, cc -> int\n",
    "- add cols that count tags?"
   ]
  },
  {
   "cell_type": "code",
   "execution_count": 44,
   "metadata": {
    "ExecuteTime": {
     "end_time": "2020-10-19T16:27:03.041942Z",
     "start_time": "2020-10-19T16:27:03.031399Z"
    }
   },
   "outputs": [
    {
     "data": {
      "text/plain": [
       "303            02月13日 15:14\n",
       "367            01月09日 18:00\n",
       "1702    2016-10-07 21:21:41\n",
       "2018    2015-07-03 01:54:46\n",
       "177            04月26日 06:26\n",
       "115            06月01日 01:54\n",
       "1390    2017-09-06 08:15:54\n",
       "227            03月21日 12:49\n",
       "116            05月31日 23:11\n",
       "385            01月02日 14:24\n",
       "Name: time, dtype: object"
      ]
     },
     "execution_count": 44,
     "metadata": {},
     "output_type": "execute_result"
    }
   ],
   "source": [
    "# time->datetime \n",
    "\n",
    "yw = yesung_weibo.copy()\n",
    "yw.time.sample(10)"
   ]
  },
  {
   "cell_type": "code",
   "execution_count": 47,
   "metadata": {
    "ExecuteTime": {
     "end_time": "2020-10-19T16:27:37.107750Z",
     "start_time": "2020-10-19T16:27:37.100668Z"
    }
   },
   "outputs": [
    {
     "data": {
      "text/plain": [
       "'2019-12-31 22:11:15'"
      ]
     },
     "execution_count": 47,
     "metadata": {},
     "output_type": "execute_result"
    }
   ],
   "source": [
    "yw.time[390] #非当年的年份以标准方式表示，同年微博以中文月日时表示"
   ]
  },
  {
   "cell_type": "code",
   "execution_count": 90,
   "metadata": {
    "ExecuteTime": {
     "end_time": "2020-10-19T16:45:01.958318Z",
     "start_time": "2020-10-19T16:45:01.952771Z"
    }
   },
   "outputs": [],
   "source": [
    "def change_time_format(release_time):\n",
    "    if release_time.find('日') != -1:\n",
    "        release_time = str(datetime.datetime.now().year) + '年' + release_time\n",
    "        release_time = datetime.datetime.strptime(release_time, '%Y年%m月%d日 %H:%M')\n",
    "    return release_time"
   ]
  },
  {
   "cell_type": "code",
   "execution_count": 165,
   "metadata": {
    "ExecuteTime": {
     "end_time": "2020-10-19T17:21:30.584587Z",
     "start_time": "2020-10-19T17:21:30.562174Z"
    },
    "scrolled": true
   },
   "outputs": [],
   "source": [
    "yw.time = yw.time.apply(change_time_format)"
   ]
  },
  {
   "cell_type": "code",
   "execution_count": 96,
   "metadata": {
    "ExecuteTime": {
     "end_time": "2020-10-19T16:47:00.292428Z",
     "start_time": "2020-10-19T16:47:00.282018Z"
    }
   },
   "outputs": [],
   "source": [
    "# 原浮点小数转存为int\n",
    "yw[yw.columns[-5:]] = yw[yw.columns[-5:]].astype(int)"
   ]
  },
  {
   "cell_type": "code",
   "execution_count": 97,
   "metadata": {
    "ExecuteTime": {
     "end_time": "2020-10-19T16:47:10.473212Z",
     "start_time": "2020-10-19T16:47:10.455565Z"
    }
   },
   "outputs": [
    {
     "data": {
      "text/html": [
       "<div>\n",
       "<style scoped>\n",
       "    .dataframe tbody tr th:only-of-type {\n",
       "        vertical-align: middle;\n",
       "    }\n",
       "\n",
       "    .dataframe tbody tr th {\n",
       "        vertical-align: top;\n",
       "    }\n",
       "\n",
       "    .dataframe thead th {\n",
       "        text-align: right;\n",
       "    }\n",
       "</style>\n",
       "<table border=\"1\" class=\"dataframe\">\n",
       "  <thead>\n",
       "    <tr style=\"text-align: right;\">\n",
       "      <th></th>\n",
       "      <th>content</th>\n",
       "      <th>time</th>\n",
       "      <th>source</th>\n",
       "      <th>video</th>\n",
       "      <th>photo</th>\n",
       "      <th>zan</th>\n",
       "      <th>repo</th>\n",
       "      <th>cc</th>\n",
       "    </tr>\n",
       "  </thead>\n",
       "  <tbody>\n",
       "    <tr>\n",
       "      <th>1249</th>\n",
       "      <td>‪MAPS vol.118 is out NOW ‼️ At all over the bo...</td>\n",
       "      <td>2018-02-21 18:39:48</td>\n",
       "      <td>iPhone X</td>\n",
       "      <td>0</td>\n",
       "      <td>0</td>\n",
       "      <td>9849</td>\n",
       "      <td>835</td>\n",
       "      <td>683</td>\n",
       "    </tr>\n",
       "    <tr>\n",
       "      <th>1595</th>\n",
       "      <td>그래도 .. 따뜻해서 좋았어 🚓 #보이스 #삐뽀삐뽀</td>\n",
       "      <td>2017-02-19 12:04:00</td>\n",
       "      <td>iPhone 6</td>\n",
       "      <td>0</td>\n",
       "      <td>0</td>\n",
       "      <td>5168</td>\n",
       "      <td>437</td>\n",
       "      <td>303</td>\n",
       "    </tr>\n",
       "    <tr>\n",
       "      <th>826</th>\n",
       "      <td>大家都好好睡吧 💋💋💋</td>\n",
       "      <td>2019-04-10 23:02:15</td>\n",
       "      <td>iPhone X</td>\n",
       "      <td>0</td>\n",
       "      <td>7</td>\n",
       "      <td>11139</td>\n",
       "      <td>1201</td>\n",
       "      <td>1552</td>\n",
       "    </tr>\n",
       "    <tr>\n",
       "      <th>528</th>\n",
       "      <td>쪼쪼미 ✌🏻</td>\n",
       "      <td>2019-10-18 13:05:55</td>\n",
       "      <td>iPhone X</td>\n",
       "      <td>0</td>\n",
       "      <td>1</td>\n",
       "      <td>20061</td>\n",
       "      <td>1363</td>\n",
       "      <td>1233</td>\n",
       "    </tr>\n",
       "    <tr>\n",
       "      <th>861</th>\n",
       "      <td>도쿄는 봄 콘서트 🌸🌸🌸</td>\n",
       "      <td>2019-03-13 14:22:45</td>\n",
       "      <td>微博视频</td>\n",
       "      <td>1</td>\n",
       "      <td>0</td>\n",
       "      <td>8234</td>\n",
       "      <td>825</td>\n",
       "      <td>829</td>\n",
       "    </tr>\n",
       "  </tbody>\n",
       "</table>\n",
       "</div>"
      ],
      "text/plain": [
       "                                                content                 time  \\\n",
       "1249  ‪MAPS vol.118 is out NOW ‼️ At all over the bo...  2018-02-21 18:39:48   \n",
       "1595                      그래도 .. 따뜻해서 좋았어 🚓 #보이스 #삐뽀삐뽀   2017-02-19 12:04:00   \n",
       "826                                        大家都好好睡吧 💋💋💋   2019-04-10 23:02:15   \n",
       "528                                             쪼쪼미 ✌🏻   2019-10-18 13:05:55   \n",
       "861                                      도쿄는 봄 콘서트 🌸🌸🌸   2019-03-13 14:22:45   \n",
       "\n",
       "        source  video  photo    zan  repo    cc  \n",
       "1249  iPhone X      0      0   9849   835   683  \n",
       "1595  iPhone 6      0      0   5168   437   303  \n",
       "826   iPhone X      0      7  11139  1201  1552  \n",
       "528   iPhone X      0      1  20061  1363  1233  \n",
       "861       微博视频      1      0   8234   825   829  "
      ]
     },
     "execution_count": 97,
     "metadata": {},
     "output_type": "execute_result"
    }
   ],
   "source": [
    "yw.sample(5)"
   ]
  },
  {
   "cell_type": "code",
   "execution_count": 155,
   "metadata": {
    "ExecuteTime": {
     "end_time": "2020-10-19T17:15:45.158586Z",
     "start_time": "2020-10-19T17:15:45.143796Z"
    }
   },
   "outputs": [],
   "source": [
    "# get number of topics\n",
    "topic = yw.content.apply(lambda x: len([*re.finditer(r'\\#[0-9\\w]', x)]))\n",
    "yw.insert(1, 'topic', value = topic)"
   ]
  },
  {
   "cell_type": "code",
   "execution_count": 175,
   "metadata": {
    "ExecuteTime": {
     "end_time": "2020-10-19T17:29:58.904331Z",
     "start_time": "2020-10-19T17:29:57.388467Z"
    }
   },
   "outputs": [],
   "source": [
    "file_location = os.getcwd()+ f'\\\\{user}' + f'\\\\{get_folders(user)[folder_idx]}'\n",
    "yw.to_excel(file_location + f'\\\\{get_folders(user)[folder_idx]} weibo status.xlsx')"
   ]
  },
  {
   "cell_type": "code",
   "execution_count": 166,
   "metadata": {
    "ExecuteTime": {
     "end_time": "2020-10-19T17:21:33.226462Z",
     "start_time": "2020-10-19T17:21:33.202813Z"
    }
   },
   "outputs": [
    {
     "data": {
      "text/html": [
       "<div>\n",
       "<style scoped>\n",
       "    .dataframe tbody tr th:only-of-type {\n",
       "        vertical-align: middle;\n",
       "    }\n",
       "\n",
       "    .dataframe tbody tr th {\n",
       "        vertical-align: top;\n",
       "    }\n",
       "\n",
       "    .dataframe thead th {\n",
       "        text-align: right;\n",
       "    }\n",
       "</style>\n",
       "<table border=\"1\" class=\"dataframe\">\n",
       "  <thead>\n",
       "    <tr style=\"text-align: right;\">\n",
       "      <th></th>\n",
       "      <th>content</th>\n",
       "      <th>topic</th>\n",
       "      <th>time</th>\n",
       "      <th>source</th>\n",
       "      <th>video</th>\n",
       "      <th>photo</th>\n",
       "      <th>zan</th>\n",
       "      <th>repo</th>\n",
       "      <th>cc</th>\n",
       "    </tr>\n",
       "  </thead>\n",
       "  <tbody>\n",
       "    <tr>\n",
       "      <th>0</th>\n",
       "      <td>曾经很有自信... 😅‬</td>\n",
       "      <td>0</td>\n",
       "      <td>2020-08-06 17:44:00</td>\n",
       "      <td>iPhone 11 Pro</td>\n",
       "      <td>1</td>\n",
       "      <td>0</td>\n",
       "      <td>17003</td>\n",
       "      <td>1619</td>\n",
       "      <td>10282</td>\n",
       "    </tr>\n",
       "    <tr>\n",
       "      <th>1</th>\n",
       "      <td>人累不要紧，只要心不累就好办。</td>\n",
       "      <td>0</td>\n",
       "      <td>2020-08-06 11:08:00</td>\n",
       "      <td>iPhone 11 Pro</td>\n",
       "      <td>0</td>\n",
       "      <td>2</td>\n",
       "      <td>18508</td>\n",
       "      <td>2327</td>\n",
       "      <td>2658</td>\n",
       "    </tr>\n",
       "    <tr>\n",
       "      <th>2</th>\n",
       "      <td>笑吧 笑吧 笑吧 😁</td>\n",
       "      <td>0</td>\n",
       "      <td>2020-08-05 19:53:00</td>\n",
       "      <td>iPhone 11 Pro</td>\n",
       "      <td>0</td>\n",
       "      <td>4</td>\n",
       "      <td>17966</td>\n",
       "      <td>1790</td>\n",
       "      <td>2338</td>\n",
       "    </tr>\n",
       "    <tr>\n",
       "      <th>3</th>\n",
       "      <td>如果没有能力改变现状， 我就要控制我自己的情绪。</td>\n",
       "      <td>0</td>\n",
       "      <td>2020-08-05 13:36:00</td>\n",
       "      <td>iPhone 11 Pro</td>\n",
       "      <td>0</td>\n",
       "      <td>1</td>\n",
       "      <td>18124</td>\n",
       "      <td>1718</td>\n",
       "      <td>1728</td>\n",
       "    </tr>\n",
       "    <tr>\n",
       "      <th>4</th>\n",
       "      <td>굿밤 🌝</td>\n",
       "      <td>0</td>\n",
       "      <td>2020-08-03 21:58:00</td>\n",
       "      <td>iPhone 11 Pro</td>\n",
       "      <td>0</td>\n",
       "      <td>3</td>\n",
       "      <td>14198</td>\n",
       "      <td>1470</td>\n",
       "      <td>1767</td>\n",
       "    </tr>\n",
       "    <tr>\n",
       "      <th>...</th>\n",
       "      <td>...</td>\n",
       "      <td>...</td>\n",
       "      <td>...</td>\n",
       "      <td>...</td>\n",
       "      <td>...</td>\n",
       "      <td>...</td>\n",
       "      <td>...</td>\n",
       "      <td>...</td>\n",
       "      <td>...</td>\n",
       "    </tr>\n",
       "    <tr>\n",
       "      <th>2081</th>\n",
       "      <td>Luhan &amp; Yesung ^^</td>\n",
       "      <td>0</td>\n",
       "      <td>2014-05-28 19:47:38</td>\n",
       "      <td>iPhone客户端</td>\n",
       "      <td>0</td>\n",
       "      <td>2</td>\n",
       "      <td>47312</td>\n",
       "      <td>13796</td>\n",
       "      <td>7636</td>\n",
       "    </tr>\n",
       "    <tr>\n",
       "      <th>2082</th>\n",
       "      <td>왕솜사탕 ~~ 그라고 예성잉 ^^</td>\n",
       "      <td>0</td>\n",
       "      <td>2014-05-03 20:00:30</td>\n",
       "      <td>iPhone客户端</td>\n",
       "      <td>0</td>\n",
       "      <td>4</td>\n",
       "      <td>15306</td>\n",
       "      <td>8023</td>\n",
       "      <td>5646</td>\n",
       "    </tr>\n",
       "    <tr>\n",
       "      <th>2083</th>\n",
       "      <td>내욕심이많았다 MV http://t.cn/8FHCwp3 일본어버젼 http://t....</td>\n",
       "      <td>0</td>\n",
       "      <td>2014-02-19 21:31:44</td>\n",
       "      <td>iPhone客户端</td>\n",
       "      <td>0</td>\n",
       "      <td>0</td>\n",
       "      <td>12963</td>\n",
       "      <td>5591</td>\n",
       "      <td>4379</td>\n",
       "    </tr>\n",
       "    <tr>\n",
       "      <th>2084</th>\n",
       "      <td>做个好梦，我们在梦中相见。</td>\n",
       "      <td>0</td>\n",
       "      <td>2014-02-09 22:38:28</td>\n",
       "      <td>iPhone客户端</td>\n",
       "      <td>0</td>\n",
       "      <td>1</td>\n",
       "      <td>23639</td>\n",
       "      <td>14937</td>\n",
       "      <td>13618</td>\n",
       "    </tr>\n",
       "    <tr>\n",
       "      <th>2085</th>\n",
       "      <td>艺声今天开始玩微博。ELF China应该会经常看到我吧？</td>\n",
       "      <td>0</td>\n",
       "      <td>2014-02-09 17:55:56</td>\n",
       "      <td>iPhone客户端</td>\n",
       "      <td>0</td>\n",
       "      <td>1</td>\n",
       "      <td>27876</td>\n",
       "      <td>24238</td>\n",
       "      <td>17884</td>\n",
       "    </tr>\n",
       "  </tbody>\n",
       "</table>\n",
       "<p>2086 rows × 9 columns</p>\n",
       "</div>"
      ],
      "text/plain": [
       "                                                content  topic  \\\n",
       "0                                         曾经很有自信... 😅‬       0   \n",
       "1                                      人累不要紧，只要心不累就好办。       0   \n",
       "2                                           笑吧 笑吧 笑吧 😁       0   \n",
       "3                             如果没有能力改变现状， 我就要控制我自己的情绪。       0   \n",
       "4                                                 굿밤 🌝       0   \n",
       "...                                                 ...    ...   \n",
       "2081                                Luhan & Yesung ^^        0   \n",
       "2082                                왕솜사탕 ~~ 그라고 예성잉 ^^       0   \n",
       "2083  내욕심이많았다 MV http://t.cn/8FHCwp3 일본어버젼 http://t....      0   \n",
       "2084                                     做个好梦，我们在梦中相见。       0   \n",
       "2085                     艺声今天开始玩微博。ELF China应该会经常看到我吧？       0   \n",
       "\n",
       "                    time         source  video  photo    zan   repo     cc  \n",
       "0    2020-08-06 17:44:00  iPhone 11 Pro      1      0  17003   1619  10282  \n",
       "1    2020-08-06 11:08:00  iPhone 11 Pro      0      2  18508   2327   2658  \n",
       "2    2020-08-05 19:53:00  iPhone 11 Pro      0      4  17966   1790   2338  \n",
       "3    2020-08-05 13:36:00  iPhone 11 Pro      0      1  18124   1718   1728  \n",
       "4    2020-08-03 21:58:00  iPhone 11 Pro      0      3  14198   1470   1767  \n",
       "...                  ...            ...    ...    ...    ...    ...    ...  \n",
       "2081 2014-05-28 19:47:38      iPhone客户端      0      2  47312  13796   7636  \n",
       "2082 2014-05-03 20:00:30      iPhone客户端      0      4  15306   8023   5646  \n",
       "2083 2014-02-19 21:31:44      iPhone客户端      0      0  12963   5591   4379  \n",
       "2084 2014-02-09 22:38:28      iPhone客户端      0      1  23639  14937  13618  \n",
       "2085 2014-02-09 17:55:56      iPhone客户端      0      1  27876  24238  17884  \n",
       "\n",
       "[2086 rows x 9 columns]"
      ]
     },
     "execution_count": 166,
     "metadata": {},
     "output_type": "execute_result"
    }
   ],
   "source": [
    "yw"
   ]
  },
  {
   "cell_type": "code",
   "execution_count": 216,
   "metadata": {
    "ExecuteTime": {
     "end_time": "2020-10-20T03:04:04.209431Z",
     "start_time": "2020-10-20T03:04:04.202488Z"
    }
   },
   "outputs": [],
   "source": [
    "def get_data_dictionary():\n",
    "    content_d = 'content: 微博内容\\n'\n",
    "    topic_d = 'topic: 该微博中含有的话题数量\\n'\n",
    "    time_d = 'time: 该微博发出的时间点\\n'\n",
    "    source_d = 'source: 该微博发出的来源，如iPhone客户端\\n'\n",
    "    video_d = 'video: 该微博是否含有视频，1为是，0为否\\n'\n",
    "    photo_d = 'photo: 该微博含有的图片数量\\n'\n",
    "    reaction_d = 'zan, repo, cc: 该微博在爬虫时间点获得的赞、转、评数量'\n",
    "\n",
    "    data_dict = 'Data Dictionary:\\n\\n' + content_d + topic_d + time_d + source_d + video_d + photo_d + reaction_d\n",
    "    \n",
    "    return data_dict"
   ]
  },
  {
   "cell_type": "code",
   "execution_count": 217,
   "metadata": {
    "ExecuteTime": {
     "end_time": "2020-10-20T03:04:58.033263Z",
     "start_time": "2020-10-20T03:04:58.027275Z"
    }
   },
   "outputs": [],
   "source": [
    "def clean_dateframe(user_weibo, file_location, file_prefix):\n",
    "    user_weibo.time = user_weibo.time.apply(change_time_format)\n",
    "    user_weibo[user_weibo.columns[-5:]] = user_weibo[user_weibo.columns[-5:]].astype(int)\n",
    "    topic = user_weibo.content.apply(lambda x: len([*re.finditer(r'\\#[0-9\\w]', x)]))\n",
    "    user_weibo.insert(1, 'topic', value = topic)\n",
    "    user_weibo.to_excel(file_location + f'\\\\{file_prefix} weibo status.xlsx')\n",
    "    with open(file_location + '\\\\data dictionary.txt') as f:\n",
    "        f.write(get_data_dictionary())"
   ]
  },
  {
   "cell_type": "markdown",
   "metadata": {},
   "source": [
    "## 分析\n",
    "\n",
    "思路：\n",
    "- 提及sj member的次数；\n",
    "- 发博时间点；\n",
    "- 转赞评的曲线；\n"
   ]
  },
  {
   "cell_type": "code",
   "execution_count": 182,
   "metadata": {
    "ExecuteTime": {
     "end_time": "2020-10-19T17:33:21.874650Z",
     "start_time": "2020-10-19T17:33:21.868104Z"
    }
   },
   "outputs": [],
   "source": [
    "yw_t = yw.copy()\n",
    "yw_t = yw_t.set_index('time')"
   ]
  },
  {
   "cell_type": "code",
   "execution_count": 186,
   "metadata": {
    "ExecuteTime": {
     "end_time": "2020-10-19T17:34:14.006285Z",
     "start_time": "2020-10-19T17:34:13.524983Z"
    }
   },
   "outputs": [
    {
     "data": {
      "text/plain": [
       "<matplotlib.axes._subplots.AxesSubplot at 0x1c3a84f8b08>"
      ]
     },
     "execution_count": 186,
     "metadata": {},
     "output_type": "execute_result"
    },
    {
     "data": {
      "image/png": "[encoded data removed]",
      "text/plain": [
       "<Figure size 1152x432 with 1 Axes>"
      ]
     },
     "metadata": {
      "needs_background": "light"
     },
     "output_type": "display_data"
    }
   ],
   "source": [
    "yw_t[['zan', 'repo', 'cc']].plot(figsize = (16,6))"
   ]
  },
  {
   "cell_type": "code",
   "execution_count": 198,
   "metadata": {
    "ExecuteTime": {
     "end_time": "2020-10-19T17:37:01.716033Z",
     "start_time": "2020-10-19T17:37:01.265969Z"
    }
   },
   "outputs": [
    {
     "data": {
      "text/plain": [
       "<matplotlib.axes._subplots.AxesSubplot at 0x1c3aabd5688>"
      ]
     },
     "execution_count": 198,
     "metadata": {},
     "output_type": "execute_result"
    },
    {
     "data": {
      "image/png": "[encoded data removed]",
      "text/plain": [
       "<Figure size 1152x432 with 1 Axes>"
      ]
     },
     "metadata": {
      "needs_background": "light"
     },
     "output_type": "display_data"
    }
   ],
   "source": [
    "yw_t[['topic', 'photo']].plot(alpha = 0.8,figsize = (16,6))"
   ]
  },
  {
   "cell_type": "code",
   "execution_count": null,
   "metadata": {},
   "outputs": [],
   "source": []
  }
 ],
 "metadata": {
  "kernelspec": {
   "display_name": "Python 3",
   "language": "python",
   "name": "python3"
  },
  "language_info": {
   "codemirror_mode": {
    "name": "ipython",
    "version": 3
   },
   "file_extension": ".py",
   "mimetype": "text/x-python",
   "name": "python",
   "nbconvert_exporter": "python",
   "pygments_lexer": "ipython3",
   "version": "3.7.6"
  },
  "toc": {
   "base_numbering": 1,
   "nav_menu": {},
   "number_sections": true,
   "sideBar": true,
   "skip_h1_title": false,
   "title_cell": "Table of Contents",
   "title_sidebar": "Contents",
   "toc_cell": false,
   "toc_position": {},
   "toc_section_display": true,
   "toc_window_display": true
  }
 },
 "nbformat": 4,
 "nbformat_minor": 4
}
